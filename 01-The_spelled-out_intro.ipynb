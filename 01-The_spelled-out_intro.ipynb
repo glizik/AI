{
  "nbformat": 4,
  "nbformat_minor": 0,
  "metadata": {
    "colab": {
      "provenance": [],
      "authorship_tag": "ABX9TyMeA6CGcc+xB2cR4yVbQpTu",
      "include_colab_link": true
    },
    "kernelspec": {
      "name": "python3",
      "display_name": "Python 3"
    },
    "language_info": {
      "name": "python"
    }
  },
  "cells": [
    {
      "cell_type": "markdown",
      "metadata": {
        "id": "view-in-github",
        "colab_type": "text"
      },
      "source": [
        "<a href=\"https://colab.research.google.com/github/glizik/AI/blob/main/01-The_spelled-out_intro.ipynb\" target=\"_parent\"><img src=\"https://colab.research.google.com/assets/colab-badge.svg\" alt=\"Open In Colab\"/></a>"
      ]
    },
    {
      "cell_type": "code",
      "execution_count": null,
      "metadata": {
        "id": "ITZOI2CqG-mQ"
      },
      "outputs": [],
      "source": [
        "# 01 The spelled-out intro to neural networks and backpropagation: building micrograd\n",
        "# Andrey Karpathy\n",
        "\n",
        "#import it to all projects as a default\n",
        "import math\n",
        "import numpy as np\n",
        "import matplotlib.pyplot as plt\n",
        "%matplotlib inline # plots as static images directly in the output cells "
      ]
    }
  ]
}